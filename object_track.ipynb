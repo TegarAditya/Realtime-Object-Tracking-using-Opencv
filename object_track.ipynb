{
 "cells": [
  {
   "cell_type": "code",
   "execution_count": 1,
   "metadata": {
    "collapsed": true
   },
   "outputs": [],
   "source": [
    "import cv2\n",
    "import numpy as np\n",
    "import pylab\n",
    "import os\n",
    "import shutil\n",
    "import imageio"
   ]
  },
  {
   "cell_type": "code",
   "execution_count": 2,
   "metadata": {
    "collapsed": true
   },
   "outputs": [],
   "source": [
    "def process_image(im):\n",
    "    image, contours, hier = cv2.findContours(im, cv2.RETR_TREE,\n",
    "                    cv2.CHAIN_APPROX_SIMPLE)\n",
    "\n",
    "    # with each contour, draw boundingRect in green\n",
    "    # a minAreaRect in red and\n",
    "    # a minEnclosingCircle in blue\n",
    "    for c in contours:\n",
    "        \n",
    "        # get the bounding rect\n",
    "        x, y, w, h = cv2.boundingRect(c)\n",
    "        \n",
    "        # draw a green rectangle to visualize the bounding rect\n",
    "        cv2.rectangle(img, (x, y), (x+w, y+h), (0, 255, 0), 2)\n",
    "\n",
    "        # get the min area rect\n",
    "        rect = cv2.minAreaRect(c)\n",
    "        box = cv2.boxPoints(rect)\n",
    "        \n",
    "        # convert all coordinates floating point values to int\n",
    "        box = np.int0(box)\n",
    "        \n",
    "        # draw a red 'nghien' rectangle\n",
    "        cv2.drawContours(img, [box], 0, (0, 0, 255))\n",
    "\n",
    "    cv2.drawContours(img, contours, -1, (255, 255, 0), 1)\n",
    "    return img\n"
   ]
  },
  {
   "cell_type": "code",
   "execution_count": null,
   "metadata": {
    "collapsed": true
   },
   "outputs": [],
   "source": []
  },
  {
   "cell_type": "code",
   "execution_count": 3,
   "metadata": {
    "collapsed": true
   },
   "outputs": [],
   "source": [
    "try:\n",
    "    os.mkdir(\"images\")\n",
    "except:\n",
    "    shutil.rmtree(\"images\")\n",
    "    os.mkdir(\"images\")"
   ]
  },
  {
   "cell_type": "code",
   "execution_count": 4,
   "metadata": {
    "collapsed": true
   },
   "outputs": [],
   "source": [
    "try:\n",
    "    %rm -rf foo.avi\n",
    "except:\n",
    "    pass"
   ]
  },
  {
   "cell_type": "code",
   "execution_count": 5,
   "metadata": {
    "collapsed": true,
    "scrolled": true
   },
   "outputs": [],
   "source": [
    "filename = 'vtest.mp4'\n",
    "vid = imageio.get_reader(filename,  'ffmpeg')\n",
    "\n",
    "for num in range(vid.get_length()):\n",
    "    img = vid.get_data(num)\n",
    "    gray_image = cv2.cvtColor(img, cv2.COLOR_RGB2GRAY)\n",
    "    _,im =  cv2.threshold(gray_image,220,1,cv2.THRESH_BINARY+cv2.THRESH_OTSU)\n",
    "    im = process_image(im)\n",
    "    pylab.imsave(\"images/\"+\"image-\"+str(num)+\".jpg\",im)"
   ]
  },
  {
   "cell_type": "code",
   "execution_count": 6,
   "metadata": {
    "scrolled": false
   },
   "outputs": [
    {
     "name": "stdout",
     "output_type": "stream",
     "text": [
      "ffmpeg version 2.7 Copyright (c) 2000-2015 the FFmpeg developers\r\n",
      "  built with llvm-gcc 4.2.1 (LLVM build 2336.11.00)\r\n",
      "  configuration: --prefix=/Volumes/Ramdisk/sw --enable-gpl --enable-pthreads --enable-version3 --enable-libspeex --enable-libvpx --disable-decoder=libvpx --enable-libmp3lame --enable-libtheora --enable-libvorbis --enable-libx264 --enable-avfilter --enable-libopencore_amrwb --enable-libopencore_amrnb --enable-filters --enable-libgsm --enable-libvidstab --enable-libx265 --disable-doc --arch=x86_64 --enable-runtime-cpudetect\r\n",
      "  libavutil      54. 27.100 / 54. 27.100\r\n",
      "  libavcodec     56. 41.100 / 56. 41.100\r\n",
      "  libavformat    56. 36.100 / 56. 36.100\r\n",
      "  libavdevice    56.  4.100 / 56.  4.100\r\n",
      "  libavfilter     5. 16.101 /  5. 16.101\r\n",
      "  libswscale      3.  1.101 /  3.  1.101\r\n",
      "  libswresample   1.  2.100 /  1.  2.100\r\n",
      "  libpostproc    53.  3.100 / 53.  3.100\r\n",
      "\u001b[0;36m[mjpeg @ 0x7f80d7001600] \u001b[0m\u001b[1;31mbits 131 is invalid\r\n",
      "\u001b[0m\u001b[0;36m[mjpeg @ 0x7f80d7001600] \u001b[0m\u001b[1;31mmjpeg: unsupported coding type (cd)\r\n",
      "\u001b[0m    Last message repeated 1 times\r",
      "    Last message repeated 1 times\r\n",
      "\u001b[0;36m[mjpeg @ 0x7f80d7001600] \u001b[0m\u001b[1;31mbits 246 is invalid\r\n",
      "\u001b[0m\u001b[0;36m[mjpeg @ 0x7f80d7001600] \u001b[0m\u001b[1;31mbits 88 is invalid\r\n",
      "\u001b[0m\u001b[0;36m[mjpeg @ 0x7f80d7001600] \u001b[0m\u001b[1;31mdqt: invalid precision\r\n",
      "\u001b[0m\u001b[0;36m[mjpeg @ 0x7f80d7001600] \u001b[0m\u001b[1;31mbits 204 is invalid\r\n",
      "\u001b[0m\u001b[0;36m[mjpeg @ 0x7f80d7001600] \u001b[0m\u001b[1;31mbits 75 is invalid\r\n",
      "\u001b[0m\u001b[0;36m[mjpeg @ 0x7f80d7001600] \u001b[0m\u001b[1;31minvalid id 57\r\n",
      "\u001b[0m\u001b[0;36m[mjpeg @ 0x7f80d7001600] \u001b[0m\u001b[1;31mbits 247 is invalid\r\n",
      "\u001b[0m\u001b[0;36m[mjpeg @ 0x7f80d7001600] \u001b[0m\u001b[1;31mbits 186 is invalid\r\n",
      "\u001b[0m\u001b[0;36m[mjpeg @ 0x7f80d7001600] \u001b[0m\u001b[1;31mmjpeg: unsupported coding type (c7)\r\n",
      "\u001b[0m\u001b[0;36m[mjpeg @ 0x7f80d7001600] \u001b[0m\u001b[1;31mmjpeg: unsupported coding type (c9)\r\n",
      "\u001b[0m\u001b[0;36m[mjpeg @ 0x7f80d7001600] \u001b[0m\u001b[1;31mmjpeg: unsupported coding type (c6)\r\n",
      "\u001b[0m\u001b[0;36m[mjpeg @ 0x7f80d7001600] \u001b[0m\u001b[0;33mFound EOI before any SOF, ignoring\r\n",
      "\u001b[0m\u001b[0;36m[mjpeg @ 0x7f80d7001600] \u001b[0m\u001b[1;31minvalid id 167\r\n",
      "\u001b[0m\u001b[0;35m[image2 @ 0x7f80d7000000] \u001b[0mdecoding for stream 0 failed\r\n",
      "\u001b[0;35m[image2 @ 0x7f80d7000000] \u001b[0m\u001b[0;33mCould not find codec parameters for stream 0 (Video: mjpeg, none(bt470bg/unknown/unknown)): unspecified size\r\n",
      "Consider increasing the value for the 'analyzeduration' and 'probesize' options\r\n",
      "\u001b[0m\u001b[4;31mimages/image-%00d.jpg: could not find codec parameters\r\n",
      "\u001b[0mInput #0, image2, from 'images/image-%00d.jpg':\r\n",
      "  Duration: 00:00:31.80, start: 0.000000, bitrate: N/A\r\n",
      "    Stream #0:0: Video: mjpeg, none(bt470bg/unknown/unknown), 25 fps, 25 tbr, 25 tbn, 25 tbc\r\n",
      "Output #0, mp4, to 'foo_1.mp4':\r\n",
      "\u001b[1;31mOutput file #0 does not contain any stream\r\n",
      "\u001b[0m"
     ]
    }
   ],
   "source": [
    "!ffmpeg -framerate 25 -i images/image-%00d.jpg -r 76 -s 800x600 foo_1.mp4"
   ]
  },
  {
   "cell_type": "code",
   "execution_count": null,
   "metadata": {
    "collapsed": true
   },
   "outputs": [],
   "source": []
  },
  {
   "cell_type": "code",
   "execution_count": null,
   "metadata": {
    "collapsed": true
   },
   "outputs": [],
   "source": [
    "# "
   ]
  }
 ],
 "metadata": {
  "anaconda-cloud": {},
  "kernelspec": {
   "display_name": "Python 3",
   "language": "python",
   "name": "python3"
  },
  "language_info": {
   "codemirror_mode": {
    "name": "ipython",
    "version": 3
   },
   "file_extension": ".py",
   "mimetype": "text/x-python",
   "name": "python",
   "nbconvert_exporter": "python",
   "pygments_lexer": "ipython3",
   "version": "3.5.4"
  }
 },
 "nbformat": 4,
 "nbformat_minor": 1
}
